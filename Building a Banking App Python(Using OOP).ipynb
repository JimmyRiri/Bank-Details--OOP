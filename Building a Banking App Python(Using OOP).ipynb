{
 "cells": [
  {
   "cell_type": "code",
   "execution_count": 1,
   "id": "dc8368b1",
   "metadata": {},
   "outputs": [],
   "source": [
    "#Parent Class User\n",
    "#Holds details about a user\n",
    "#Has a function to show user details\n",
    "#Child class bank\n",
    "#Stores value about the account balance\n",
    "#Allows for deposits,withdraw, view balance"
   ]
  },
  {
   "cell_type": "code",
   "execution_count": 2,
   "id": "4663866c",
   "metadata": {},
   "outputs": [],
   "source": [
    "class User ():\n",
    "    def __init__(self, name, age, gender):\n",
    "        self.name = name\n",
    "        self.age = age\n",
    "        self.gender = gender\n",
    "        \n",
    "    def show_details(self):\n",
    "        print (\"Personal Details\")\n",
    "        print(\"\")\n",
    "        print(\"Name\", self.name)\n",
    "        print( \"Age\", self.age)\n",
    "        print(\"Gender\", self.gender)       "
   ]
  },
  {
   "cell_type": "code",
   "execution_count": 3,
   "id": "3fc9a9b4",
   "metadata": {},
   "outputs": [],
   "source": [
    "johan = User('Johan', 21, 'Male')"
   ]
  },
  {
   "cell_type": "code",
   "execution_count": 4,
   "id": "b527ae41",
   "metadata": {},
   "outputs": [
    {
     "data": {
      "text/plain": [
       "<__main__.User at 0x126306a7910>"
      ]
     },
     "execution_count": 4,
     "metadata": {},
     "output_type": "execute_result"
    }
   ],
   "source": [
    "johan"
   ]
  },
  {
   "cell_type": "code",
   "execution_count": 5,
   "id": "2d0e615a",
   "metadata": {},
   "outputs": [
    {
     "name": "stdout",
     "output_type": "stream",
     "text": [
      "Personal Details\n",
      "\n",
      "Name Johan\n",
      "Age 21\n",
      "Gender Male\n"
     ]
    }
   ],
   "source": [
    "johan.show_details()"
   ]
  },
  {
   "cell_type": "code",
   "execution_count": 6,
   "id": "65857723",
   "metadata": {},
   "outputs": [],
   "source": [
    "#Child Class\n",
    "class Bank(User):\n",
    "    def __init__(self, name, age, gender):\n",
    "        super().__init__(name, age, gender)\n",
    "        self.balance = 0\n",
    "        \n",
    "    def deposit(self, amount):\n",
    "        self.amount = amount\n",
    "        self.balance = self.balance + self.amount\n",
    "        \n",
    "        print(\"Account balance has been updated :$\", self.balance)\n",
    "        \n",
    "    def withdraw(self, amount):\n",
    "        self.amount = amount\n",
    "        if self.amount > self.balance:\n",
    "            print(\"Insufficient funds | Balance Available :$\", self.balance)\n",
    "        else:\n",
    "            self.balance = self.balance - self.amount\n",
    "            print(\"Account has been updated :$\", self.balance)\n",
    "    \n",
    "    def view_balance(self):\n",
    "        self.show_details() \n",
    "        print(\"Account has been updated :$\", self.balance)"
   ]
  },
  {
   "cell_type": "code",
   "execution_count": 7,
   "id": "288131e8",
   "metadata": {},
   "outputs": [
    {
     "name": "stdout",
     "output_type": "stream",
     "text": [
      "Account balance has been updated :$ 100\n"
     ]
    }
   ],
   "source": [
    "johan = Bank('Johan', 20, 'Male')\n",
    "johan.deposit(100)"
   ]
  },
  {
   "cell_type": "code",
   "execution_count": 8,
   "id": "0c5c2504",
   "metadata": {},
   "outputs": [
    {
     "name": "stdout",
     "output_type": "stream",
     "text": [
      "Account has been updated :$ 10\n"
     ]
    }
   ],
   "source": [
    "johan.withdraw(90)"
   ]
  },
  {
   "cell_type": "code",
   "execution_count": 9,
   "id": "952089e0",
   "metadata": {},
   "outputs": [
    {
     "name": "stdout",
     "output_type": "stream",
     "text": [
      "Insufficient funds | Balance Available :$ 10\n"
     ]
    }
   ],
   "source": [
    "johan.withdraw(500)"
   ]
  },
  {
   "cell_type": "code",
   "execution_count": 10,
   "id": "480e392a",
   "metadata": {},
   "outputs": [
    {
     "name": "stdout",
     "output_type": "stream",
     "text": [
      "Account has been updated :$ 5\n"
     ]
    }
   ],
   "source": [
    "johan.withdraw(5)"
   ]
  },
  {
   "cell_type": "code",
   "execution_count": 11,
   "id": "31a40000",
   "metadata": {},
   "outputs": [
    {
     "name": "stdout",
     "output_type": "stream",
     "text": [
      "Personal Details\n",
      "\n",
      "Name Johan\n",
      "Age 20\n",
      "Gender Male\n"
     ]
    }
   ],
   "source": [
    "johan.show_details()"
   ]
  },
  {
   "cell_type": "code",
   "execution_count": 12,
   "id": "801640d8",
   "metadata": {},
   "outputs": [
    {
     "name": "stdout",
     "output_type": "stream",
     "text": [
      "Personal Details\n",
      "\n",
      "Name Johan\n",
      "Age 20\n",
      "Gender Male\n",
      "Account has been updated :$ 5\n"
     ]
    }
   ],
   "source": [
    "johan.view_balance()"
   ]
  },
  {
   "cell_type": "code",
   "execution_count": null,
   "id": "56adbe4b",
   "metadata": {},
   "outputs": [],
   "source": []
  }
 ],
 "metadata": {
  "kernelspec": {
   "display_name": "Python 3",
   "language": "python",
   "name": "python3"
  },
  "language_info": {
   "codemirror_mode": {
    "name": "ipython",
    "version": 3
   },
   "file_extension": ".py",
   "mimetype": "text/x-python",
   "name": "python",
   "nbconvert_exporter": "python",
   "pygments_lexer": "ipython3",
   "version": "3.8.8"
  }
 },
 "nbformat": 4,
 "nbformat_minor": 5
}
